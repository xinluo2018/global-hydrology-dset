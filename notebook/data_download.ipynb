{
 "cells": [
  {
   "cell_type": "markdown",
   "metadata": {},
   "source": [
    "#### ERA5 data is from: https://cds.climate.copernicus.eu/cdsapp#!/home"
   ]
  },
  {
   "cell_type": "code",
   "execution_count": 14,
   "metadata": {},
   "outputs": [],
   "source": [
    "import cdsapi\n"
   ]
  },
  {
   "cell_type": "code",
   "execution_count": 43,
   "metadata": {},
   "outputs": [],
   "source": [
    "c = cdsapi.Client()\n"
   ]
  },
  {
   "cell_type": "code",
   "execution_count": 46,
   "metadata": {},
   "outputs": [
    {
     "name": "stderr",
     "output_type": "stream",
     "text": [
      "2024-05-26 17:42:56,501 INFO Welcome to the CDS\n",
      "2024-05-26 17:42:56,502 INFO Sending request to https://cds.climate.copernicus.eu/api/v2/resources/reanalysis-era5-single-levels-monthly-means\n",
      "2024-05-26 17:42:56,884 INFO Downloading https://download-0019.copernicus-climate.eu/cache-compute-0019/cache/data1/adaptor.mars.internal-1716714933.3776066-21637-13-509fd4ab-943d-4454-887d-436fbf8c90e4.nc to data/climate/ear5_monthly_means_2020_01.nc (4M)\n",
      "2024-05-26 17:43:01,661 INFO Download rate 851.3K/s \n"
     ]
    },
    {
     "data": {
      "text/plain": [
       "Result(content_length=4162920,content_type=application/x-netcdf,location=https://download-0019.copernicus-climate.eu/cache-compute-0019/cache/data1/adaptor.mars.internal-1716714933.3776066-21637-13-509fd4ab-943d-4454-887d-436fbf8c90e4.nc)"
      ]
     },
     "execution_count": 46,
     "metadata": {},
     "output_type": "execute_result"
    }
   ],
   "source": [
    "year = '2020'\n",
    "month = '01'\n",
    "c.retrieve(\n",
    "    'reanalysis-era5-single-levels-monthly-means',\n",
    "    {\n",
    "        'format': 'netcdf',\n",
    "        'product_type': 'monthly_averaged_reanalysis',\n",
    "        'variable': ['2m_temperature', 'total_precipitation'],\n",
    "        'year': '2020',\n",
    "        'month': '01',\n",
    "        'time': '00:00',\n",
    "        'area': [90, -180, -90, 180],\n",
    "    },\n",
    "    'data/climate/era5_monthly_means_%s_%s.nc' % (year, month)\n",
    "    )\n"
   ]
  },
  {
   "cell_type": "code",
   "execution_count": null,
   "metadata": {},
   "outputs": [],
   "source": []
  },
  {
   "cell_type": "code",
   "execution_count": null,
   "metadata": {},
   "outputs": [],
   "source": [
    "\n"
   ]
  },
  {
   "cell_type": "code",
   "execution_count": null,
   "metadata": {},
   "outputs": [],
   "source": [
    "\n"
   ]
  }
 ],
 "metadata": {
  "kernelspec": {
   "display_name": "hydrodata",
   "language": "python",
   "name": "python3"
  },
  "language_info": {
   "codemirror_mode": {
    "name": "ipython",
    "version": 3
   },
   "file_extension": ".py",
   "mimetype": "text/x-python",
   "name": "python",
   "nbconvert_exporter": "python",
   "pygments_lexer": "ipython3",
   "version": "3.10.14"
  }
 },
 "nbformat": 4,
 "nbformat_minor": 2
}
